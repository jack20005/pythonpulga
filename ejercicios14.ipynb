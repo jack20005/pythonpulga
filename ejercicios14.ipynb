{
  "nbformat": 4,
  "nbformat_minor": 0,
  "metadata": {
    "colab": {
      "provenance": [],
      "authorship_tag": "ABX9TyP5RefZEQVg4uHvfowb+nO0",
      "include_colab_link": true
    },
    "kernelspec": {
      "name": "python3",
      "display_name": "Python 3"
    },
    "language_info": {
      "name": "python"
    }
  },
  "cells": [
    {
      "cell_type": "markdown",
      "metadata": {
        "id": "view-in-github",
        "colab_type": "text"
      },
      "source": [
        "<a href=\"https://colab.research.google.com/github/jack20005/pythonpulga/blob/main/ejercicios14.ipynb\" target=\"_parent\"><img src=\"https://colab.research.google.com/assets/colab-badge.svg\" alt=\"Open In Colab\"/></a>"
      ]
    },
    {
      "cell_type": "code",
      "execution_count": 1,
      "metadata": {
        "colab": {
          "base_uri": "https://localhost:8080/",
          "height": 0
        },
        "id": "Gc7iB3dhxTqt",
        "outputId": "93963731-b84f-4ad6-ff42-1f9036c428db"
      },
      "outputs": [
        {
          "output_type": "stream",
          "name": "stdout",
          "text": [
            "Ingrese la base del triángulo: 21\n",
            "Ingrese la altura del triángulo: 12\n",
            "El área del triángulo es: 126.0\n"
          ]
        }
      ],
      "source": [
        "# Cálculo del área de un triángulo\n",
        "# Ingreso de la base y la altura del triángulo\n",
        "base = float(input(\"Ingrese la base del triángulo: \"))\n",
        "altura = float(input(\"Ingrese la altura del triángulo: \"))\n",
        "\n",
        "# Cálculo del área\n",
        "area = (base * altura) / 2\n",
        "\n",
        "# Presentación del resultado\n",
        "print(f\"El área del triángulo es: {area}\")"
      ]
    },
    {
      "cell_type": "code",
      "source": [
        "# Conversión de Celsius a Fahrenheit\n",
        "# Ingreso de la temperatura en grados Celsius\n",
        "celsius = float(input(\"Ingrese la temperatura en grados Celsius: \"))\n",
        "\n",
        "# Cálculo de la temperatura en Fahrenheit\n",
        "fahrenheit = (celsius * 9/5) + 32\n",
        "\n",
        "# Presentación del resultado\n",
        "print(f\"Equivalente en Fahrenheit: {fahrenheit:.2f}°F\")"
      ],
      "metadata": {
        "colab": {
          "base_uri": "https://localhost:8080/",
          "height": 0
        },
        "id": "QnAkUe7_yT-0",
        "outputId": "183c3dad-517f-4483-93b2-0e9d493e0500"
      },
      "execution_count": 2,
      "outputs": [
        {
          "output_type": "stream",
          "name": "stdout",
          "text": [
            "Ingrese la temperatura en grados Celsius: 87\n",
            "Equivalente en Fahrenheit: 188.60°F\n"
          ]
        }
      ]
    },
    {
      "cell_type": "code",
      "source": [
        "# Mayor de tres números\n",
        "# Ingreso de los tres números\n",
        "a = float(input(\"Ingrese el primer número: \"))\n",
        "b = float(input(\"Ingrese el segundo número: \"))\n",
        "c = float(input(\"Ingrese el tercer número: \"))\n",
        "\n",
        "# Cálculo del mayor número\n",
        "mayor = max(a, b, c)\n",
        "\n",
        "# Presentación del resultado\n",
        "print(f\"El número mayor es: {mayor}\")"
      ],
      "metadata": {
        "colab": {
          "base_uri": "https://localhost:8080/",
          "height": 0
        },
        "id": "xwUl07R4yWxF",
        "outputId": "c150e81f-b1ea-437b-aa39-c4d12f5b6215"
      },
      "execution_count": 3,
      "outputs": [
        {
          "output_type": "stream",
          "name": "stdout",
          "text": [
            "Ingrese el primer número: 2\n",
            "Ingrese el segundo número: 4\n",
            "Ingrese el tercer número: 6\n",
            "El número mayor es: 6.0\n"
          ]
        }
      ]
    },
    {
      "cell_type": "code",
      "source": [
        "# Cálculo del monto a pagar según monto de compra\n",
        "# Ingreso del monto total de compra\n",
        "monto = float(input(\"Ingrese el monto total de su compra (S/): \"))\n",
        "\n",
        "# Determinar el porcentaje de descuento\n",
        "if monto > 500:\n",
        "  descuento = 0.20\n",
        "elif 200 <= monto <= 500:\n",
        "  descuento = 0.10\n",
        "else:\n",
        "  descuento = 0.0\n",
        "\n",
        "# Cálculo del monto con descuento\n",
        "monto_descuento = monto * descuento\n",
        "monto_final = monto - monto_descuento\n",
        "\n",
        "# Mostrar resultados\n",
        "print(\"\\nRESUMEN DE COMPRA\")\n",
        "print(f\"Monto original : S/{monto:.2f}\")\n",
        "print(f\"Descuento aplicado: {descuento*100:.0f}%\")\n",
        "print(f\"Descuento en soles: S/{monto_descuento:.2f}\")\n",
        "print(f\"Total a pagar : S/{monto_final:.2f}\")"
      ],
      "metadata": {
        "colab": {
          "base_uri": "https://localhost:8080/",
          "height": 0
        },
        "id": "ZwOqtRqPynBU",
        "outputId": "f9890e2b-47b9-4a79-d77a-e952797880d0"
      },
      "execution_count": 4,
      "outputs": [
        {
          "output_type": "stream",
          "name": "stdout",
          "text": [
            "Ingrese el monto total de su compra (S/): 84\n",
            "\n",
            "RESUMEN DE COMPRA\n",
            "Monto original : S/84.00\n",
            "Descuento aplicado: 0%\n",
            "Descuento en soles: S/0.00\n",
            "Total a pagar : S/84.00\n"
          ]
        }
      ]
    },
    {
      "cell_type": "code",
      "source": [
        "# Suma de números pares en un rango\n",
        "# Entrada de los límites del rango\n",
        "inicio = int(input(\"Ingrese el número de inicio: \"))\n",
        "fin = int(input(\"Ingrese el número final: \"))\n",
        "\n",
        "# Cálculo de la suma de los números pares en el rango\n",
        "suma_pares = sum(i for i in range(inicio, fin + 1) if i % 2 == 0)\n",
        "\n",
        "# Mostrar el resultado\n",
        "print(f\"La suma de los números pares entre {inicio} y {fin} es: {suma_pares}\")"
      ],
      "metadata": {
        "colab": {
          "base_uri": "https://localhost:8080/",
          "height": 0
        },
        "id": "U8g2qXBEyyf0",
        "outputId": "74e74c4d-6fe4-4cf0-e334-c4cbdfbdb830"
      },
      "execution_count": 5,
      "outputs": [
        {
          "output_type": "stream",
          "name": "stdout",
          "text": [
            "Ingrese el número de inicio: 8\n",
            "Ingrese el número final: 16\n",
            "La suma de los números pares entre 8 y 16 es: 60\n"
          ]
        }
      ]
    }
  ]
}